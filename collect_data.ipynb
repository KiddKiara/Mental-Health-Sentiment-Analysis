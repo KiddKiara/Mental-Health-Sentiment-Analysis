{
 "cells": [
  {
   "cell_type": "code",
   "execution_count": null,
   "metadata": {},
   "outputs": [],
   "source": [
    "import tweepy\n",
    "import pandas as pd\n",
    "\n",
    "# Add your API keys here\n",
    "api_key = 'your_api_key'\n",
    "api_secret = 'your_api_secret'\n",
    "access_token = 'your_access_token'\n",
    "access_secret = 'your_access_secret'\n",
    "\n",
    "# Set up API client\n",
    "auth = tweepy.OAuthHandler(api_key, api_secret)\n",
    "auth.set_access_token(access_token, access_secret)\n",
    "api = tweepy.API(auth)\n",
    "\n",
    "# Collect tweets with hashtag #mentalhealth\n",
    "tweets = tweepy.Cursor(api.search_tweets, q=\"#mentalhealth\", lang=\"en\").items(100)\n",
    "\n",
    "# Store tweets in a DataFrame\n",
    "tweet_data = [[tweet.text, tweet.created_at] for tweet in tweets]\n",
    "df = pd.DataFrame(tweet_data, columns=[\"Text\", \"Timestamp\"])\n",
    "\n",
    "# Save to CSV\n",
    "df.to_csv(\"mental_health_tweets.csv\", index=False)\n",
    "print(df.head())\n"
   ]
  }
 ],
 "metadata": {
  "kernelspec": {
   "display_name": "venv",
   "language": "python",
   "name": "python3"
  },
  "language_info": {
   "codemirror_mode": {
    "name": "ipython",
    "version": 3
   },
   "file_extension": ".py",
   "mimetype": "text/x-python",
   "name": "python",
   "nbconvert_exporter": "python",
   "pygments_lexer": "ipython3",
   "version": "3.13.0"
  }
 },
 "nbformat": 4,
 "nbformat_minor": 2
}
