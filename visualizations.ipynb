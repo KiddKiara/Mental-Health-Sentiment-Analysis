{
 "cells": [
  {
   "cell_type": "code",
   "execution_count": null,
   "metadata": {},
   "outputs": [],
   "source": [
    "import pandas as pd\n",
    "import matplotlib.pyplot as plt\n",
    "import seaborn as sns\n",
    "\n",
    "# Load sentiment data\n",
    "df = pd.read_csv(\"sentiment_results.csv\")\n",
    "\n",
    "# Plot sentiment distribution\n",
    "plt.figure(figsize=(8, 6))\n",
    "sns.countplot(data=df, x=\"Sentiment\")\n",
    "plt.title(\"Sentiment Distribution of #MentalHealth Tweets\")\n",
    "plt.show()\n",
    "\n",
    "# Save the plot\n",
    "plt.savefig(\"sentiment_distribution.png\")\n"
   ]
  }
 ],
 "metadata": {
  "kernelspec": {
   "display_name": "venv",
   "language": "python",
   "name": "python3"
  },
  "language_info": {
   "name": "python",
   "version": "3.13.0"
  }
 },
 "nbformat": 4,
 "nbformat_minor": 2
}
